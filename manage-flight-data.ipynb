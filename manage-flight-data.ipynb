{
 "cells": [
  {
   "cell_type": "code",
   "execution_count": null,
   "metadata": {},
   "outputs": [],
   "source": [
    "import pandas as pd\n",
    "\n",
    "# Load the dataset\n",
    "df = pd.read_csv('flights.csv')\n",
    "\n",
    "# Display the first few rows\n",
    "df.head()\n"
   ]
  },
  {
   "cell_type": "code",
   "execution_count": null,
   "metadata": {},
   "outputs": [],
   "source": [
    "# Identify null values\n",
    "null_values = df.isnull().sum()\n",
    "null_values\n"
   ]
  },
  {
   "cell_type": "code",
   "execution_count": null,
   "metadata": {},
   "outputs": [],
   "source": [
    "# replace null values with 0\n",
    "null_values.fillna(0, inplace=True)"
   ]
  },
  {
   "cell_type": "code",
   "execution_count": null,
   "metadata": {},
   "outputs": [],
   "source": [
    "# show departures that were delayed by more than 15 minutes\n",
    "df[df['DepDel15'].isnull()]['DepDelay']\n",
    "\n",
    "#update DelDel15 to 0 if null\n",
    "df['DepDel15'].fillna(0, inplace=True)"
   ]
  },
  {
   "cell_type": "code",
   "execution_count": null,
   "metadata": {},
   "outputs": [],
   "source": [
    "# normalize the data by removing outliers from depdelay and arrdelay\n",
    "\n",
    "# Calculate the z-scores of depdelay and arrdelay\n",
    "z_scores = (df[['DepDelay', 'ArrDelay']] - df[['DepDelay', 'ArrDelay']].mean()) / df[['DepDelay', 'ArrDelay']].std()\n",
    "\n",
    "# Calculate the absolute z-scores\n",
    "abs_z_scores = z_scores.abs()\n",
    "\n",
    "# Get the rows with outliers\n",
    "outliers = (abs_z_scores > 3).any(axis=1)\n",
    "\n",
    "# Remove the outliers\n",
    "df = df[~outliers]\n"
   ]
  },
  {
   "cell_type": "code",
   "execution_count": null,
   "metadata": {},
   "outputs": [],
   "source": [
    "# show newly cleaned data\n",
    "df.head(20)"
   ]
  },
  {
   "cell_type": "code",
   "execution_count": null,
   "metadata": {},
   "outputs": [],
   "source": [
    "# Create a chatrt showing average departure delay by airline\n",
    "import matplotlib.pyplot as plt\n",
    "import seaborn as sns\n",
    "\n",
    "# Group by airline and calculate average departure delay\n",
    "average_delay = df.groupby('Carrier')['DepDelay'].mean()\n",
    "\n",
    "# Sort the average delay in ascending order\n",
    "average_delay = average_delay.sort_values(ascending=True)\n",
    "\n",
    "# Create a bar chart\n",
    "plt.figure(figsize=(10, 6))\n",
    "sns.barplot(x=average_delay.index, y=average_delay.values, palette='viridis')\n",
    "plt.title('Average Departure Delay by Airline')\n",
    "plt.ylabel('Average Delay (minutes)')\n",
    "plt.xlabel('Airline')\n",
    "plt.xticks(rotation=45)\n",
    "plt.show()"
   ]
  },
  {
   "cell_type": "code",
   "execution_count": null,
   "metadata": {},
   "outputs": [],
   "source": [
    "# Create a bar chart showing arrival delay that was greater than 15 minutes by airline\n",
    "\n",
    "# Group by airline and calculate the number of delayed flights\n",
    "delayed_flights = df[df['ArrDel15'] == 1].groupby('Carrier').size()\n",
    "\n",
    "# Sort the number of delayed flights in ascending order\n",
    "delayed_flights = delayed_flights.sort_values(ascending=True)\n",
    "\n",
    "# Create a bar chart\n",
    "plt.figure(figsize=(10, 6))\n",
    "sns.barplot(x=delayed_flights.index, y=delayed_flights.values, palette='viridis')\n",
    "plt.title('Number of Flights with Arrival Delay > 15 minutes by Airline')\n",
    "plt.ylabel('Number of Flights')\n",
    "plt.xlabel('Airline')\n",
    "plt.xticks(rotation=45)\n",
    "plt.show()"
   ]
  },
  {
   "cell_type": "code",
   "execution_count": null,
   "metadata": {},
   "outputs": [],
   "source": [
    "# Plot the distribution of DepDelay and ArrDelay\n",
    "plt.figure(figsize=(10, 6))\n",
    "sns.histplot(data=df, x='DepDelay', kde=True, color='blue', label='DepDelay')\n",
    "sns.histplot(data=df, x='ArrDelay', kde=True, color='green', label='ArrDelay')\n",
    "plt.title('Distribution of DepDelay and ArrDelay')\n",
    "plt.xlabel('Delay (minutes)')\n",
    "plt.ylabel('Frequency')\n",
    "plt.legend()\n",
    "plt.show()\n"
   ]
  },
  {
   "cell_type": "code",
   "execution_count": null,
   "metadata": {},
   "outputs": [],
   "source": [
    "# Calculate the average arrival delay by carrier\n",
    "average_arrival_delay = df.groupby('Carrier')['ArrDelay'].mean()\n",
    "\n",
    "# Sort the average arrival delay in ascending order\n",
    "average_arrival_delay = average_arrival_delay.sort_values(ascending=True)\n",
    "\n",
    "# Create a bar chart\n",
    "plt.figure(figsize=(10, 6))\n",
    "sns.barplot(x=average_arrival_delay.index, y=average_arrival_delay.values, palette='viridis')\n",
    "plt.title('Average Arrival Delay by Airline')\n",
    "plt.ylabel('Average Delay (minutes)')\n",
    "plt.xlabel('Airline')\n",
    "plt.xticks(rotation=45)\n",
    "plt.show()\n"
   ]
  },
  {
   "cell_type": "code",
   "execution_count": null,
   "metadata": {},
   "outputs": [],
   "source": [
    "# which route has the highest average arrival delay\n",
    "average_arrival_delay_route = df.groupby(['OriginCity', 'DestCity'])['ArrDelay'].mean()\n",
    "average_arrival_delay_route\n"
   ]
  },
  {
   "cell_type": "code",
   "execution_count": null,
   "metadata": {},
   "outputs": [],
   "source": [
    "# which route has the most late arrivals from origin airport to destination airport?\n",
    "\n",
    "# Group by origin and destination cities and calculate the number of delayed flights\n",
    "delayed_flights_route = df[df['ArrDel15'] == 1].groupby(['OriginCity', 'DestCity']).size()\n",
    "\n",
    "# Sort the number of delayed flights in ascending order\n",
    "delayed_flights_route = delayed_flights_route.sort_values(ascending=True)\n",
    "\n",
    "# Display the top 10 routes with the most delayed flights\n",
    "delayed_flights_route.tail(10)"
   ]
  },
  {
   "cell_type": "code",
   "execution_count": null,
   "metadata": {},
   "outputs": [],
   "source": [
    "# which departure airport has the highest average departure delay?\n",
    "average_departure_delay_airport = df.groupby('OriginCity')['DepDelay'].mean()\n",
    "\n",
    "# Sort the average departure delay in ascending order\n",
    "average_departure_delay_airport = average_departure_delay_airport.sort_values(ascending=True)\n",
    "average_departure_delay_airport"
   ]
  },
  {
   "cell_type": "code",
   "execution_count": null,
   "metadata": {},
   "outputs": [],
   "source": [
    "# what are the arrival delays for different days of teh week?\n",
    "\n",
    "# Group by day of the week and calculate the average arrival delay\n",
    "average_arrival_delay_day = df.groupby('DayOfWeek')['ArrDelay'].mean()\n",
    "\n",
    "# Create a bar chart\n",
    "plt.figure(figsize=(10, 6))\n",
    "sns.barplot(x=average_arrival_delay_day.index, y=average_arrival_delay_day.values, palette='viridis')\n",
    "plt.title('Average Arrival Delay by Day of the Week')\n",
    "plt.ylabel('Average Delay (minutes)')\n",
    "plt.xlabel('Day of the Week')\n",
    "plt.xticks(rotation=45)\n",
    "plt.show()"
   ]
  },
  {
   "cell_type": "code",
   "execution_count": null,
   "metadata": {},
   "outputs": [],
   "source": [
    "# Create a scatter plot\n",
    "plt.figure(figsize=(10, 6))\n",
    "plt.scatter(df['DepDelay'], df['ArrDelay'])\n",
    "plt.title('Relationship between Late Departures and Arrival Delays')\n",
    "plt.xlabel('Departure Delay (minutes)')\n",
    "plt.ylabel('Arrival Delay (minutes)')\n",
    "plt.show()\n"
   ]
  },
  {
   "cell_type": "code",
   "execution_count": null,
   "metadata": {},
   "outputs": [],
   "source": [
    "# Create a model to predict the likelihood of a flight being delayed based on the day of the week and the arrival airport\n",
    "# use a logistic regression model\n",
    "# split the date into training and testing sets\n",
    "# train the model\n",
    "# calculate the accuracy of the model\n",
    "\n",
    "from sklearn.model_selection import train_test_split\n",
    "from sklearn.linear_model import LogisticRegression\n",
    "from sklearn.metrics import accuracy_score\n",
    "\n",
    "\n",
    "# Select the features and the target variable\n",
    "X = df[['DayOfWeek', 'DestAirportID']]\n",
    "y = df['ArrDel15']\n",
    "\n",
    "# Split the data into training and testing sets\n",
    "X_train, X_test, y_train, y_test = train_test_split(X, y, test_size=0.3, random_state=0)\n",
    "\n",
    "# Create a logistic regression model\n",
    "model = LogisticRegression(solver='lbfgs')\n",
    "\n",
    "# Train the model\n",
    "model.fit(X_train, y_train)\n",
    "\n",
    "# Make predictions\n",
    "y_pred = model.predict(X_test)\n",
    "\n",
    "# Calculate the accuracy of the model\n",
    "model.score(X_test, y_test)\n"
   ]
  },
  {
   "cell_type": "code",
   "execution_count": null,
   "metadata": {},
   "outputs": [],
   "source": [
    "# show confusion matrix\n",
    "from sklearn.metrics import confusion_matrix\n",
    "\n",
    "# Create a confusion matrix\n",
    "conf_matrix = confusion_matrix(y_test, y_pred)\n",
    "conf_matrix"
   ]
  },
  {
   "cell_type": "code",
   "execution_count": null,
   "metadata": {},
   "outputs": [],
   "source": [
    "# show the odds of a flight being delayed to Chicago on a Monday\n",
    "\n",
    "# Create a dataframe with the input values\n",
    "data = {'DayOfWeek': [1], 'DestAirportID': [13930]}\n",
    "input_values = pd.DataFrame(data)\n",
    "\n",
    "# Make a prediction\n",
    "prediction = model.predict_proba(input_values)\n",
    "\n",
    "# Show the prediction\n",
    "prediction[0]"
   ]
  },
  {
   "cell_type": "code",
   "execution_count": null,
   "metadata": {},
   "outputs": [],
   "source": [
    "# Show the odds of a flight being delayed to Las Vegas on a Friday\n",
    "\n",
    "# Create a dataframe with the input values\n",
    "data = {'DayOfWeek': [5], 'DestAirportID': [12889]}\n",
    "input_values = pd.DataFrame(data)\n",
    "\n",
    "# Make a prediction\n",
    "prediction = model.predict_proba(input_values)\n",
    "\n",
    "# Show the prediction\n",
    "prediction[0]"
   ]
  },
  {
   "cell_type": "code",
   "execution_count": null,
   "metadata": {},
   "outputs": [],
   "source": [
    "# Make a prediction of the odds of a flight being delayed to Los Angeles on a Wednesday\n",
    "\n",
    "# Create a dataframe with the input values\n",
    "data = {'DayOfWeek': [3], 'DestAirportID': [12892]}\n",
    "\n",
    "# Make a prediction\n",
    "input_values = pd.DataFrame(data)\n",
    "\n",
    "# Make a prediction\n",
    "prediction = model.predict_proba(input_values)\n",
    "\n",
    "# Show the prediction\n",
    "prediction[0]"
   ]
  },
  {
   "cell_type": "code",
   "execution_count": null,
   "metadata": {},
   "outputs": [],
   "source": [
    "# Make a prediction of the odds of a flight being delayed to San Francisco on a Thursday\n",
    "\n",
    "# Create a dataframe with the input values\n",
    "data = {'DayOfWeek': [4], 'DestAirportID': [14771]}\n",
    "input_values = pd.DataFrame(data)\n",
    "\n",
    "# Make a prediction\n",
    "prediction = model.predict_proba(input_values)\n",
    "\n",
    "# Show the prediction\n",
    "prediction[0]"
   ]
  },
  {
   "cell_type": "code",
   "execution_count": null,
   "metadata": {},
   "outputs": [],
   "source": [
    "# Get unique column values for origin airport and id and export to CSV\n",
    "origin_airport = df[['OriginAirportID', 'OriginAirportName']].drop_duplicates()\n",
    "origin_airport.to_csv('origin_airport.csv', index=False)\n"
   ]
  },
  {
   "cell_type": "code",
   "execution_count": null,
   "metadata": {},
   "outputs": [],
   "source": [
    "# export the model to import later into Flask\n",
    "import pickle\n",
    "\n",
    "pickle.dump(model, open('server/model.pkl', 'wb'))"
   ]
  }
 ],
 "metadata": {
  "kernelspec": {
   "display_name": ".venv",
   "language": "python",
   "name": "python3"
  },
  "language_info": {
   "codemirror_mode": {
    "name": "ipython",
    "version": 3
   },
   "file_extension": ".py",
   "mimetype": "text/x-python",
   "name": "python",
   "nbconvert_exporter": "python",
   "pygments_lexer": "ipython3",
   "version": "3.11.8"
  }
 },
 "nbformat": 4,
 "nbformat_minor": 2
}
